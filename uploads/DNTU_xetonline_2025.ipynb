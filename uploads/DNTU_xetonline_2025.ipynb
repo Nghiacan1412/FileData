{
  "cells": [
    {
      "cell_type": "code",
      "execution_count": 1,
      "metadata": {
        "id": "oQHAWJ9sco0r"
      },
      "outputs": [],
      "source": [
        "import pandas as pd\n",
        "import numpy as np\n",
        "import re\n",
        "import datetime\n",
        "now = datetime.datetime.now()\n",
        "time = now.strftime(\"%d%m%y\")"
      ]
    },
    {
      "cell_type": "code",
      "execution_count": null,
      "metadata": {
        "colab": {
          "base_uri": "https://localhost:8080/"
        },
        "id": "moqME6FUc9ez",
        "outputId": "f1c67628-3d7c-4088-870a-a3ce18964357"
      },
      "outputs": [
        {
          "name": "stdout",
          "output_type": "stream",
          "text": [
            "Collecting xlsxwriter\n",
            "  Downloading XlsxWriter-3.2.3-py3-none-any.whl.metadata (2.7 kB)\n",
            "Downloading XlsxWriter-3.2.3-py3-none-any.whl (169 kB)\n",
            "\u001b[2K   \u001b[90m━━━━━━━━━━━━━━━━━━━━━━━━━━━━━━━━━━━━━━━━\u001b[0m \u001b[32m169.4/169.4 kB\u001b[0m \u001b[31m3.4 MB/s\u001b[0m eta \u001b[36m0:00:00\u001b[0m\n",
            "\u001b[?25hInstalling collected packages: xlsxwriter\n",
            "Successfully installed xlsxwriter-3.2.3\n"
          ]
        }
      ],
      "source": [
        "pip install xlsxwriter"
      ]
    },
    {
      "cell_type": "code",
      "execution_count": 1,
      "metadata": {
        "colab": {
          "base_uri": "https://localhost:8080/"
        },
        "id": "ujvi0HxSNI5u",
        "outputId": "7a486508-204d-4f8c-98be-b21bae3affc1"
      },
      "outputs": [
        {
          "name": "stdout",
          "output_type": "stream",
          "text": [
            "Requirement already satisfied: unidecode in /Users/cps/.platformio/penv/lib/python3.11/site-packages (1.4.0)\n",
            "\n",
            "\u001b[1m[\u001b[0m\u001b[34;49mnotice\u001b[0m\u001b[1;39;49m]\u001b[0m\u001b[39;49m A new release of pip is available: \u001b[0m\u001b[31;49m25.0.1\u001b[0m\u001b[39;49m -> \u001b[0m\u001b[32;49m25.1.1\u001b[0m\n",
            "\u001b[1m[\u001b[0m\u001b[34;49mnotice\u001b[0m\u001b[1;39;49m]\u001b[0m\u001b[39;49m To update, run: \u001b[0m\u001b[32;49mpip install --upgrade pip\u001b[0m\n"
          ]
        }
      ],
      "source": [
        "!pip install unidecode"
      ]
    },
    {
      "cell_type": "markdown",
      "metadata": {
        "id": "X1VHCjxJsoG0"
      },
      "source": [
        "## LOADING DATAFRAME"
      ]
    },
    {
      "cell_type": "code",
      "execution_count": 4,
      "metadata": {
        "id": "Ko-QnNNVyUPi"
      },
      "outputs": [],
      "source": [
        "!mkdir output"
      ]
    },
    {
      "cell_type": "code",
      "execution_count": 5,
      "metadata": {
        "colab": {
          "base_uri": "https://localhost:8080/"
        },
        "id": "ZwIUx7Q4c-Mi",
        "outputId": "d470d87d-d397-4393-8757-b4e992f0576a"
      },
      "outputs": [
        {
          "name": "stdout",
          "output_type": "stream",
          "text": [
            "Báo cáo tiếp nhận đại học - DUV7f3.xlsx\n",
            "/content/Báo cáo tiếp nhận đại học - DUV7f3.xlsx\n"
          ]
        }
      ],
      "source": [
        "import os\n",
        "import re\n",
        "import unidecode\n",
        "\n",
        "# Get all files in the directory\n",
        "files = os.listdir('/content')\n",
        "# Define the regular expression pattern\n",
        "#pattern = re.compile(r'^tuyensinh-.*\\.xlsx$')\n",
        "pattern2 = re.compile(r'^Báo cáo tiếp nhận.*\\.xlsx$')\n",
        "\n",
        "# Find and print matching files\n",
        "for item in files:\n",
        "    #if pattern.match(item):\n",
        "        #file_name = item\n",
        "        #print(file_name)\n",
        "    if pattern2.match(item):\n",
        "        file_name2 = item\n",
        "        print(file_name2)\n",
        "\n",
        "#path_thongtincu = f'/content/{file_name}'\n",
        "path_thongtinmoi = f'/content/{file_name2}'\n",
        "print(path_thongtinmoi)"
      ]
    },
    {
      "cell_type": "markdown",
      "metadata": {
        "id": "Dj_KMbrvsvaV"
      },
      "source": [
        "#### QUY VỀ TÊN KHOA; TẠO CÚ PHÁP CHUYỂN KHOẢN, REMOVE EXTRA SPACES"
      ]
    },
    {
      "cell_type": "code",
      "execution_count": 6,
      "metadata": {
        "id": "60SiYkvqhRjR"
      },
      "outputs": [],
      "source": [
        "def assign_khoa(ma_nganh):\n",
        "  if pd.isnull(ma_nganh):\n",
        "    return None\n",
        "  elif ('7480201' in ma_nganh\n",
        "      or '7480103' in ma_nganh\n",
        "      or '7480107' in ma_nganh):\n",
        "    return 'Khoa Công nghệ thông tin'\n",
        "  elif ('7510301' in ma_nganh\n",
        "        or '7510205' in ma_nganh\n",
        "        or '7510202' in ma_nganh\n",
        "        or '7510103' in ma_nganh):\n",
        "    return 'Khoa Kỹ thuật'\n",
        "  elif ('7540101' in ma_nganh\n",
        "        or '7510406' in ma_nganh\n",
        "        or '7510401' in ma_nganh\n",
        "        or '7420201' in ma_nganh\n",
        "        or '7720301' in ma_nganh\n",
        "        or '7720601' in ma_nganh):\n",
        "    return 'Khoa Công nghệ'\n",
        "  elif ('7320104' in ma_nganh\n",
        "        or '7210403' in ma_nganh\n",
        "        or '7210408' in ma_nganh):\n",
        "    return 'Khoa Truyền thông - Thiết kế'\n",
        "  elif ('7340101' in ma_nganh\n",
        "        or '7810103' in ma_nganh\n",
        "        or '7810201' in ma_nganh\n",
        "        or '7510605' in ma_nganh):\n",
        "    return 'Khoa Kinh tế quản trị'\n",
        "  elif ('7340301' in ma_nganh\n",
        "        or '7340201' in ma_nganh):\n",
        "    return 'Khoa Kế toán - Tài chính'\n",
        "  elif ('7220201' in ma_nganh\n",
        "        or '7310608' in ma_nganh\n",
        "        or '7220204' in ma_nganh):\n",
        "    return 'Khoa Ngoại ngữ'\n",
        "  else:\n",
        "    return None\n",
        "\n",
        "def remove_accent(text):\n",
        "  # Check if text is a string before applying unidecode\n",
        "  if isinstance(text, str):\n",
        "    return unidecode.unidecode(text)\n",
        "  # If not a string, convert to string first\n",
        "  else:\n",
        "    return unidecode.unidecode(str(text))\n",
        "\n",
        "def unicode_hoten(df):\n",
        "  hoten = (df['Họ'].apply(remove_accent) + ' '+ df['Tên'].apply(remove_accent)\n",
        "           + ' ' + df['Điện Thoại']\n",
        "           + ' ' + df['Ngày Sinh'].str.replace(r'/', '', regex=True)\n",
        "           + ' ' + 'XETHB2025')\n",
        "  return hoten\n",
        "\n",
        "def remove_extra_spaces(text):\n",
        "  if isinstance(text, str):\n",
        "    return ' '.join(text.split())\n",
        "  return text"
      ]
    },
    {
      "cell_type": "code",
      "execution_count": 7,
      "metadata": {
        "id": "lblPIKuPgfyN"
      },
      "outputs": [],
      "source": [
        "def wrangling(path):\n",
        "  # bước 1 đọc file excel\n",
        "  df = pd.read_excel(path, dtype=str)\n",
        "  # replace nan value by 0 value ở cột Mã hồ sơ\n",
        "  # df['Mã hồ sơ'].fillna(\"0\", inplace=True)\n",
        "  # định dạng lại Họ và tên\n",
        "  df['Họ'] = df['Họ'].str.title()\n",
        "  df['Tên'] = df['Tên'].str.title()\n",
        "  # drop cột STT\n",
        "  df.drop('STT', axis=1, inplace=True)\n",
        "  # điểm khu vực\n",
        "  df['diem_khuvuc'] = df['Khu Vực theo THPT'].apply({'KV 1':0.75, 'KV 2-NT':0.5,\n",
        "                                                  'KV 2':0.25}.get)\n",
        "  df['diem_khuvuc'] = df['diem_khuvuc'].fillna(0)\n",
        "  # asign Khoa for dataset\n",
        "  df['Khoa_100'] = df['Mã ngành_100'].apply(assign_khoa)\n",
        "  df['Khoa_200'] = df['Mã ngành_200'].apply(assign_khoa)\n",
        "  df['Khoa_402'] = df['Mã ngành_402'].apply(assign_khoa)\n",
        "  df['Khoa_thang'] = df['Mã ngành_tuyển thẳng'].apply(assign_khoa)\n",
        "  # create new column dienthoai for ZNS\n",
        "  df['dien_thoai_HS'] = '84' + df['Điện Thoại'].str[1:]\n",
        "  df['dien_thoai_PH'] = '84' + df['Số điện thoại phụ huynh'].str[1:]\n",
        "  # Cú pháp lệ phí 40.000\n",
        "  df['cu_phap_40k'] = unicode_hoten(df)\n",
        "  return df\n",
        "df = wrangling(path_thongtinmoi)"
      ]
    },
    {
      "cell_type": "markdown",
      "metadata": {
        "id": "pgXL_UIgscoi"
      },
      "source": [
        "## KIỂM TRA ĐĂNG KÝ THIẾU THÔNG TIN"
      ]
    },
    {
      "cell_type": "code",
      "execution_count": 8,
      "metadata": {
        "id": "2EQ8sj34hJIL"
      },
      "outputs": [],
      "source": [
        "lst1 = ['Họ', 'Tên', 'Giới Tính', 'Ngày Sinh', 'Điện Thoại',\n",
        "       'Số CMCD/CCCD', 'Email', 'Nơi sinh', 'Dân tộc', 'Mã Tỉnh', 'Mã Huyện',\n",
        "       'Địa chỉ liên lạc']\n",
        "lst2 = ['Năm tốt nghiệp', 'Khu Vực theo THPT', 'Tỉnh THPT', 'Mã tỉnh THPT',\n",
        "        'Mã trường THPT', 'Trường THPT']\n",
        "lst3 = ['Mã ngành_200', 'Hình thức', 'Tổ hợp', 'Môn 1', 'Môn 2', 'Môn 3',\n",
        "       'Tổng điểm']\n",
        "lst4 = ['Học lực 12', 'Hạnh kiểm 12']\n",
        "lst5 = ['Có học bạ', 'Bằng tốt nghiệp', 'Chứng nhận KQ thi TN',\n",
        "        'Hình CMND/CCCD']\n",
        "lst = lst1 + lst2 + lst3 + lst4 + lst5\n",
        "thieu_thongtin = pd.DataFrame(index=df.index)\n",
        "for item in lst1:\n",
        "  for index, row in df.iterrows():\n",
        "    if pd.isnull(row[item]):\n",
        "      thieu_thongtin.loc[index, 'Thong_tin_thieu'] = f'[Thông tin thí sinh]'\n",
        "\n",
        "\n",
        "thieu_thongtin['THPT'] = ''\n",
        "for item in lst2:\n",
        "  for index, row in df.iterrows():\n",
        "    if pd.isnull(row[item]):\n",
        "      thieu_thongtin.loc[index, 'THPT'] = f'[Quá trình học THPT]'\n",
        "\n",
        "thieu_thongtin['NV'] = ''\n",
        "for item in lst3:\n",
        "  for index, row in df.iterrows():\n",
        "    if pd.isnull(row[item]):\n",
        "      thieu_thongtin.loc[index, 'NV'] = f'[Thông tin đăng ký nguyện vọng]'\n",
        "\n",
        "thieu_thongtin['HLHK'] = ''\n",
        "for item in lst4:\n",
        "  for index, row in df.iterrows():\n",
        "    if pd.isnull(row[item]):\n",
        "      thieu_thongtin.loc[index, 'HLHK'] = f'[Học lực, hạnh kiểm]'\n",
        "\n",
        "thieu_thongtin['scan'] = ''\n",
        "for item in lst5:\n",
        "  for index, row in df.iterrows():\n",
        "    if row[item] == '0':\n",
        "      thieu_thongtin.loc[index, 'scan'] = f'[File scan hồ sơ thí sinh]'\n",
        "\n",
        "thieu_thongtin['cu_the'] = ''\n",
        "for item in lst:\n",
        "  for index, row in df.iterrows():\n",
        "    if pd.isnull(row[item]):\n",
        "      thieu_thongtin.loc[index, 'cu_the'] += f'[{item}] '\n",
        "    elif row[item]=='0':\n",
        "      thieu_thongtin.loc[index, 'cu_the'] += f'[{item}] '\n",
        "\n",
        "thieu_thongtin.fillna(\"\", inplace=True)\n",
        "\n",
        "df['ZNS1_thieu'] = (thieu_thongtin['Thong_tin_thieu'] + ' '\n",
        "                   + thieu_thongtin['THPT'] + ' '\n",
        "                   + thieu_thongtin['NV'] + ' '\n",
        "                   + thieu_thongtin['HLHK'] + ' '\n",
        "                   + thieu_thongtin['scan'] + ' ')\n",
        "df['ZNS1_thieu'] = df['ZNS1_thieu'].apply(remove_extra_spaces)\n",
        "\n",
        "df['thieu_cu_the'] = thieu_thongtin['cu_the']\n",
        "df['ZNS2_thieu'] = thieu_thongtin['scan']"
      ]
    },
    {
      "cell_type": "markdown",
      "metadata": {
        "id": "Kr-xAxaus9z7"
      },
      "source": [
        "#### THỐNG KÊ THEO NGÀY - THÁNG - NĂM"
      ]
    },
    {
      "cell_type": "code",
      "execution_count": 9,
      "metadata": {
        "id": "nJAOmzRcs-HM"
      },
      "outputs": [],
      "source": [
        "def thongke(df):\n",
        "  # Theo ngày\n",
        "  dangky = pd.DataFrame()\n",
        "  dangky['Ngày đăng ký'] = pd.to_datetime(df['Ngày đăng ký'], format='%d/%m/%Y')\n",
        "  dangky['Họ'] = df['Họ']\n",
        "  dangky_days = dangky.groupby('Ngày đăng ký')['Họ'].count()\n",
        "  # Theo tuần\n",
        "  dangky_tuan = pd.DataFrame()\n",
        "  dangky_tuan['week'] = dangky['Ngày đăng ký'].dt.isocalendar().week\n",
        "  dangky_tuan['Họ'] = dangky['Họ']\n",
        "  weeks = dangky_tuan.groupby('week')['Họ'].count()\n",
        "  dangky_tuan = pd.DataFrame(weeks)\n",
        "  dangky_tuan.reset_index(inplace=True)\n",
        "  # Theo tháng\n",
        "  dangky_thang = pd.DataFrame()\n",
        "  dangky_thang['month'] = dangky['Ngày đăng ký'].dt.month\n",
        "  dangky_thang['Họ'] = dangky['Họ']\n",
        "  months = dangky_thang.groupby('month')['Họ'].count()\n",
        "  dangky_thang = pd.DataFrame(months)\n",
        "  dangky_thang.reset_index(inplace=True)\n",
        "  return dangky_days, dangky_tuan, dangky_thang\n",
        "\n",
        "dangky_days, dangky_tuan, dangky_thang = thongke(df)\n",
        "with pd.ExcelWriter(f'output/TK-DWM-{time}.xlsx', engine='xlsxwriter') as writer:\n",
        "    dangky_days.to_excel(writer, sheet_name='Tk Theo ngày')\n",
        "    dangky_tuan.to_excel(writer, sheet_name='Tk Theo tuần')\n",
        "    dangky_thang.to_excel(writer, sheet_name='Tk Theo tháng')"
      ]
    },
    {
      "cell_type": "markdown",
      "metadata": {
        "id": "xV3uuQyHznoe"
      },
      "source": [
        "#### USING LOOKER STUDIO"
      ]
    },
    {
      "cell_type": "code",
      "execution_count": 10,
      "metadata": {
        "colab": {
          "base_uri": "https://localhost:8080/"
        },
        "id": "yO9nzgcD0Odp",
        "outputId": "1116f57f-cddd-4cf9-9c65-303f70902ee5"
      },
      "outputs": [
        {
          "name": "stderr",
          "output_type": "stream",
          "text": [
            "<ipython-input-10-45abc8db8ad7>:7: SettingWithCopyWarning: \n",
            "A value is trying to be set on a copy of a slice from a DataFrame.\n",
            "Try using .loc[row_indexer,col_indexer] = value instead\n",
            "\n",
            "See the caveats in the documentation: https://pandas.pydata.org/pandas-docs/stable/user_guide/indexing.html#returning-a-view-versus-a-copy\n",
            "  looker['Tên ngành_tuyển thẳng'] = looker['Mã ngành_tuyển thẳng'].apply({'7720301': 'Điều dưỡng',\n"
          ]
        }
      ],
      "source": [
        "looker = df[['Số CMCD/CCCD', 'Giới Tính', 'Dân tộc', 'Khu Vực theo THPT',\n",
        "              'Tỉnh THPT', 'Trường THPT', 'Năm tốt nghiệp', 'Ngày đăng ký',\n",
        "              'Tên ngành_100', 'Tên ngành_200', 'Tên ngành_402',\n",
        "              'Mã ngành_tuyển thẳng', 'Khoa_100', 'Khoa_200', 'Khoa_402',\n",
        "              'Khoa_thang', 'dien_thoai_PH', 'Hoàn thành', 'Đã kiểm tra',\n",
        "              'Có học bạ', 'Bằng tốt nghiệp', 'Chứng nhận KQ thi TN','ZNS1_thieu']]\n",
        "looker['Tên ngành_tuyển thẳng'] = looker['Mã ngành_tuyển thẳng'].apply({'7720301': 'Điều dưỡng',\n",
        "                                          '7220201': 'Ngôn ngữ Anh',\n",
        "                                          '7340201': 'Tài chính - Ngân hàng',\n",
        "                                          '7510605': 'Logistics và quản lý chuỗi cung ứng',\n",
        "                                          '7220204': 'Ngôn ngữ Trung Quốc',\n",
        "                                          '7480201': 'Công nghệ thông tin',\n",
        "                                          '7480107': 'Trí tuệ nhân tạo',\n",
        "                                          '7510301': 'Công nghệ kỹ thuật điện, điện tử',\n",
        "                                          '7510202': 'Công nghệ chế tạo máy ',\n",
        "                                          '7480103': 'Kỹ thuật phần mềm',\n",
        "                                          '7810201': 'Quản trị khách sạn',\n",
        "                                          '7320104': 'Truyền thông đa phương tiện ',\n",
        "                                          '7340101': 'Quản trị kinh doanh',\n",
        "                                          '7720601': 'Kỹ thuật xét nghiệm y học',\n",
        "                                          '7210403': 'Thiết kế đồ họa ',\n",
        "                                          '7420201': 'Công nghệ sinh học',\n",
        "                                          '7540101': 'Công nghệ thực phẩm',\n",
        "                                          '7340301': 'Kế toán ',\n",
        "                                          '7510205': 'Công nghệ kỹ thuật ô tô',\n",
        "                                          '7210408': 'Nghệ thuật số',\n",
        "                                          '7510406': 'Công nghệ kỹ thuật môi trường',\n",
        "                                          '7510401': 'Công nghệ kỹ thuật hóa học',\n",
        "                                          '7810103': 'Quản trị dịch vụ du lịch và lữ hành',\n",
        "                                          '7310608': 'Đông phương học',\n",
        "                                          '7510103': 'Công nghệ kỹ thuật xây dựng'\n",
        "                                          }.get)\n",
        "looker.to_csv(f'output/studio-looker-{time}.csv', index= False)"
      ]
    },
    {
      "cell_type": "code",
      "execution_count": 11,
      "metadata": {
        "colab": {
          "base_uri": "https://localhost:8080/"
        },
        "id": "o13Ea_vT2Eyz",
        "outputId": "8ee38486-c41d-48de-8a8d-e2f106e2f53b"
      },
      "outputs": [
        {
          "data": {
            "text/plain": [
              "Index(['Mã hồ sơ', 'Họ', 'Tên', 'Giới Tính', 'Ngày Sinh', 'Điện Thoại',\n",
              "       'Số CMCD/CCCD', 'Email', 'Nơi sinh', 'Dân tộc', 'Năm tốt nghiệp',\n",
              "       'Khu Vực theo THPT', 'Mã Tỉnh', 'Mã Huyện', 'Tỉnh THPT', 'Mã tỉnh THPT',\n",
              "       'Mã trường THPT', 'Trường THPT', 'Địa chỉ liên lạc', 'Mã ngành_100',\n",
              "       'Tên ngành_100', 'Mã ngành_200', 'Tên ngành_200', 'Mã ngành_402',\n",
              "       'Tên ngành_402', 'Hình thức', 'Tổ hợp', 'Môn 1', 'Môn 2', 'Môn 3',\n",
              "       'Tổng điểm', 'Mã ngành_tuyển thẳng', 'Học lực 12', 'Hạnh kiểm 12',\n",
              "       'Ngày đăng ký', 'Hoàn thành', 'Có học bạ', 'Bằng tốt nghiệp',\n",
              "       'Chứng nhận KQ thi TN', 'Hình CMND/CCCD', 'Đã kiểm tra',\n",
              "       'Số điện thoại phụ huynh', 'Ghi chú', 'Tên người giới thiệu',\n",
              "       'Số điện thoại người giới thiệu', 'Câu hỏi khảo sát 1', 'diem_khuvuc',\n",
              "       'Khoa_100', 'Khoa_200', 'Khoa_402', 'Khoa_thang', 'dien_thoai_HS',\n",
              "       'dien_thoai_PH', 'cu_phap_40k', 'ZNS1_thieu', 'thieu_cu_the',\n",
              "       'ZNS2_thieu'],\n",
              "      dtype='object')"
            ]
          },
          "execution_count": 11,
          "metadata": {},
          "output_type": "execute_result"
        }
      ],
      "source": [
        "df.columns"
      ]
    },
    {
      "cell_type": "markdown",
      "metadata": {
        "id": "HnMqNrCVsifQ"
      },
      "source": [
        "## LƯU DỮ LIỆU"
      ]
    },
    {
      "cell_type": "code",
      "execution_count": 12,
      "metadata": {
        "id": "we9_T3kLmWVq"
      },
      "outputs": [],
      "source": [
        "df.to_excel(f'output/export-{time}.xlsx')"
      ]
    },
    {
      "cell_type": "code",
      "execution_count": 13,
      "metadata": {
        "colab": {
          "base_uri": "https://localhost:8080/"
        },
        "id": "RENdRI8oMp4v",
        "outputId": "cf9c3a2f-1d46-4d5d-ed6c-32cdf6e00b6b"
      },
      "outputs": [
        {
          "name": "stdout",
          "output_type": "stream",
          "text": [
            "  adding: content/output/ (stored 0%)\n",
            "  adding: content/output/export-270525.xlsx (deflated 3%)\n",
            "  adding: content/output/TK-DWM-270525.xlsx (deflated 11%)\n",
            "  adding: content/output/studio-looker-270525.csv (deflated 89%)\n"
          ]
        }
      ],
      "source": [
        "!zip -r /content/{time}.zip /content/output"
      ]
    },
    {
      "cell_type": "code",
      "execution_count": 14,
      "metadata": {
        "colab": {
          "base_uri": "https://localhost:8080/"
        },
        "id": "Zqv2J5XSqzKu",
        "outputId": "9573d3e0-80f3-4b59-abc1-5c7feb8662a3"
      },
      "outputs": [
        {
          "data": {
            "text/plain": [
              "Index(['Mã hồ sơ', 'Họ', 'Tên', 'Giới Tính', 'Ngày Sinh', 'Điện Thoại',\n",
              "       'Số CMCD/CCCD', 'Email', 'Nơi sinh', 'Dân tộc', 'Năm tốt nghiệp',\n",
              "       'Khu Vực theo THPT', 'Mã Tỉnh', 'Mã Huyện', 'Tỉnh THPT', 'Mã tỉnh THPT',\n",
              "       'Mã trường THPT', 'Trường THPT', 'Địa chỉ liên lạc', 'Mã ngành_100',\n",
              "       'Tên ngành_100', 'Mã ngành_200', 'Tên ngành_200', 'Mã ngành_402',\n",
              "       'Tên ngành_402', 'Hình thức', 'Tổ hợp', 'Môn 1', 'Môn 2', 'Môn 3',\n",
              "       'Tổng điểm', 'Mã ngành_tuyển thẳng', 'Học lực 12', 'Hạnh kiểm 12',\n",
              "       'Ngày đăng ký', 'Hoàn thành', 'Có học bạ', 'Bằng tốt nghiệp',\n",
              "       'Chứng nhận KQ thi TN', 'Hình CMND/CCCD', 'Đã kiểm tra',\n",
              "       'Số điện thoại phụ huynh', 'Ghi chú', 'Tên người giới thiệu',\n",
              "       'Số điện thoại người giới thiệu', 'Câu hỏi khảo sát 1', 'diem_khuvuc',\n",
              "       'Khoa_100', 'Khoa_200', 'Khoa_402', 'Khoa_thang', 'dien_thoai_HS',\n",
              "       'dien_thoai_PH', 'cu_phap_40k', 'ZNS1_thieu', 'thieu_cu_the',\n",
              "       'ZNS2_thieu'],\n",
              "      dtype='object')"
            ]
          },
          "execution_count": 14,
          "metadata": {},
          "output_type": "execute_result"
        }
      ],
      "source": [
        "df.columns"
      ]
    },
    {
      "cell_type": "code",
      "execution_count": 14,
      "metadata": {
        "id": "xdMVe_56t-l_"
      },
      "outputs": [],
      "source": []
    }
  ],
  "metadata": {
    "colab": {
      "provenance": []
    },
    "kernelspec": {
      "display_name": "Python 3",
      "name": "python3"
    },
    "language_info": {
      "name": "python",
      "version": "3.11.11"
    }
  },
  "nbformat": 4,
  "nbformat_minor": 0
}
